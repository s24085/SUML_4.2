{
 "cells": [
  {
   "cell_type": "markdown",
   "id": "7a96f4da",
   "metadata": {},
   "source": [
    "### 1. Import bibliotek"
   ]
  },
  {
   "cell_type": "code",
   "execution_count": 1,
   "id": "tribal-advertising",
   "metadata": {},
   "outputs": [],
   "source": [
    "import pandas as pd\n",
    "from sklearn.preprocessing import LabelEncoder\n",
    "from sklearn.model_selection import train_test_split\n",
    "from sklearn.ensemble import RandomForestClassifier\n",
    "import pickle"
   ]
  },
  {
   "cell_type": "markdown",
   "id": "2feb2c32",
   "metadata": {},
   "source": [
    "### 2. Przygotowanie modelu"
   ]
  },
  {
   "cell_type": "markdown",
   "id": "3d449777",
   "metadata": {},
   "source": [
    "Wykorzystamy kod z poprzednich zajęć do wytrenowania modelu szacującego zmienną \"survived\""
   ]
  },
  {
   "cell_type": "code",
   "execution_count": 2,
   "id": "forced-reporter",
   "metadata": {},
   "outputs": [
    {
     "name": "stdout",
     "output_type": "stream",
     "text": [
      "Index(['Age', 'Sex', 'ChestPainType', 'RestingBP', 'Cholesterol', 'FastingBS',\n",
      "       'RestingECG', 'MaxHR', 'ExerciseAngina', 'Oldpeak', 'ST_Slope',\n",
      "       'HeartDisease'],\n",
      "      dtype='object')\n",
      "Random Forest Training Accuracy: 1.0\n"
     ]
    }
   ],
   "source": [
    "#załadowanie pliku\n",
    "base_data = pd.read_csv(\"DSP_8.csv\")\n",
    "print(base_data.columns)\n",
    "\n",
    "cols = ['Age', 'Sex', 'ChestPainType', 'RestingBP', 'Cholesterol',\n",
    "        'FastingBS', 'RestingECG', 'MaxHR', 'ExerciseAngina', 'Oldpeak', 'ST_Slope']\n",
    "target = 'HeartDisease'\n",
    "\n",
    "# wybór zmiannych\n",
    "x = base_data[cols].copy()\n",
    "y = base_data[target].copy()\n",
    "\n",
    "# Obarabienie modelu\n",
    "x['Age'] = x['Age'].fillna(x['Age'].mean())\n",
    "x['Cholesterol'] = x['Cholesterol'].fillna(x['Cholesterol'].mean())\n",
    "x = x.fillna('Unknown') \n",
    "\n",
    "encoder = LabelEncoder()\n",
    "categorical_columns = ['Sex', 'ChestPainType', 'RestingECG', 'ExerciseAngina', 'ST_Slope']\n",
    "for col in categorical_columns:\n",
    "    x[col] = encoder.fit_transform(x[col])\n",
    "\n",
    "# podział na zbiory\n",
    "X_train, X_test, y_train, y_test = train_test_split(x, y, test_size=0.2, random_state=0)\n",
    "\n",
    "\n",
    "def model(X_train, y_train):\n",
    "    forest = RandomForestClassifier(n_estimators=20, random_state=0)\n",
    "    forest.fit(X_train, y_train)\n",
    "    print(f\"Random Forest Training Accuracy: {forest.score(X_train, y_train)}\")\n",
    "    return forest\n",
    "\n",
    "forest = model(X_train, y_train)\n"
   ]
  },
  {
   "cell_type": "code",
   "execution_count": 3,
   "id": "d5b1af80",
   "metadata": {},
   "outputs": [
    {
     "name": "stdout",
     "output_type": "stream",
     "text": [
      "[0 0]\n"
     ]
    }
   ],
   "source": [
    "columns = ['Age', 'Sex', 'ChestPainType', 'RestingBP', 'Cholesterol',\n",
    "           'FastingBS', 'RestingECG', 'MaxHR', 'ExerciseAngina', 'Oldpeak', 'ST_Slope']\n",
    "\n",
    "my_data = pd.DataFrame(\n",
    "    [\n",
    "        [50, 1, 2, 120, 240, 0, 1, 150, 1, 1.5, 2],  \n",
    "        [60, 0, 1, 140, 200, 1, 0, 130, 0, 0.5, 1]       ],\n",
    "    columns=columns\n",
    ")\n",
    "\n",
    "print(forest.predict(my_data))\n"
   ]
  },
  {
   "cell_type": "markdown",
   "id": "53d1e31a",
   "metadata": {},
   "source": [
    "Teraz jesteśmy gotowi do wyeksportowania naszego modelu do .pkl"
   ]
  },
  {
   "cell_type": "code",
   "execution_count": 4,
   "id": "8f6efed7",
   "metadata": {},
   "outputs": [],
   "source": [
    "filename = \"model.sv\"\n",
    "pickle.dump(forest, open(filename,'wb'))"
   ]
  },
  {
   "cell_type": "markdown",
   "id": "9047beea",
   "metadata": {},
   "source": [
    "Dalszą część pracy wykonujemy już poza Jupyter Notebook. Przenosimy się do pliku app.py."
   ]
  },
  {
   "cell_type": "code",
   "execution_count": null,
   "id": "19174826-b9db-4aca-89f3-45696f46700b",
   "metadata": {},
   "outputs": [],
   "source": []
  },
  {
   "cell_type": "code",
   "execution_count": null,
   "id": "f04406a0-b327-4f71-a41d-479378958642",
   "metadata": {},
   "outputs": [],
   "source": []
  }
 ],
 "metadata": {
  "kernelspec": {
   "display_name": "Python 3 (ipykernel)",
   "language": "python",
   "name": "python3"
  },
  "language_info": {
   "codemirror_mode": {
    "name": "ipython",
    "version": 3
   },
   "file_extension": ".py",
   "mimetype": "text/x-python",
   "name": "python",
   "nbconvert_exporter": "python",
   "pygments_lexer": "ipython3",
   "version": "3.9.20"
  }
 },
 "nbformat": 4,
 "nbformat_minor": 5
}
