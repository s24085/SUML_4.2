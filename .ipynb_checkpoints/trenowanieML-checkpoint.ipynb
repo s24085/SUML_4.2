{
 "cells": [
  {
   "cell_type": "markdown",
   "id": "7a96f4da",
   "metadata": {},
   "source": [
    "### 1. Import bibliotek"
   ]
  },
  {
   "cell_type": "code",
   "execution_count": 18,
   "id": "tribal-advertising",
   "metadata": {},
   "outputs": [],
   "source": [
    "import pandas as pd\n",
    "from sklearn.preprocessing import LabelEncoder\n",
    "from sklearn.model_selection import train_test_split\n",
    "from sklearn.ensemble import RandomForestClassifier\n",
    "import pickle"
   ]
  },
  {
   "cell_type": "markdown",
   "id": "2feb2c32",
   "metadata": {},
   "source": [
    "### 2. Przygotowanie modelu"
   ]
  },
  {
   "cell_type": "markdown",
   "id": "3d449777",
   "metadata": {},
   "source": [
    "Wykorzystamy kod z poprzednich zajęć do wytrenowania modelu szacującego zmienną \"survived\""
   ]
  },
  {
   "cell_type": "code",
   "execution_count": 19,
   "id": "forced-reporter",
   "metadata": {},
   "outputs": [
    {
     "name": "stdout",
     "output_type": "stream",
     "text": [
      "Index(['Age', 'Sex', 'ChestPainType', 'RestingBP', 'Cholesterol', 'FastingBS',\n",
      "       'RestingECG', 'MaxHR', 'ExerciseAngina', 'Oldpeak', 'ST_Slope',\n",
      "       'HeartDisease'],\n",
      "      dtype='object')\n",
      "Random Forest Training Accuracy: 1.0\n"
     ]
    }
   ],
   "source": [
    "# Load the dataset\n",
    "base_data = pd.read_csv(\"DSP_8.csv\")\n",
    "print(base_data.columns)\n",
    "\n",
    "# Define features and target\n",
    "cols = ['Age', 'Sex', 'ChestPainType', 'RestingBP', 'Cholesterol',\n",
    "        'FastingBS', 'RestingECG', 'MaxHR', 'ExerciseAngina', 'Oldpeak', 'ST_Slope']\n",
    "target = 'HeartDisease'\n",
    "\n",
    "# Select features and target\n",
    "x = base_data[cols].copy()\n",
    "y = base_data[target].copy()\n",
    "\n",
    "# Handle missing values (if any)\n",
    "x['Age'] = x['Age'].fillna(x['Age'].mean())\n",
    "x['Cholesterol'] = x['Cholesterol'].fillna(x['Cholesterol'].mean())\n",
    "x = x.fillna('Unknown')  # Handle categorical unknowns, if present\n",
    "\n",
    "\n",
    "# Encode categorical columns\n",
    "encoder = LabelEncoder()\n",
    "categorical_columns = ['Sex', 'ChestPainType', 'RestingECG', 'ExerciseAngina', 'ST_Slope']\n",
    "for col in categorical_columns:\n",
    "    x[col] = encoder.fit_transform(x[col])\n",
    "\n",
    "# Split data into training and testing sets\n",
    "X_train, X_test, y_train, y_test = train_test_split(x, y, test_size=0.2, random_state=0)\n",
    "\n",
    "# Define and train the model\n",
    "def model(X_train, y_train):\n",
    "    forest = RandomForestClassifier(n_estimators=20, random_state=0)\n",
    "    forest.fit(X_train, y_train)\n",
    "    print(f\"Random Forest Training Accuracy: {forest.score(X_train, y_train)}\")\n",
    "    return forest\n",
    "\n",
    "# Train the model\n",
    "forest = model(X_train, y_train)\n"
   ]
  },
  {
   "cell_type": "code",
   "execution_count": 20,
   "id": "d5b1af80",
   "metadata": {},
   "outputs": [
    {
     "name": "stdout",
     "output_type": "stream",
     "text": [
      "[0]\n",
      "[0]\n"
     ]
    },
    {
     "name": "stderr",
     "output_type": "stream",
     "text": [
      "/home/bart/anaconda3/envs/SUML/lib/python3.9/site-packages/sklearn/base.py:439: UserWarning: X does not have valid feature names, but RandomForestClassifier was fitted with feature names\n",
      "  warnings.warn(\n",
      "/home/bart/anaconda3/envs/SUML/lib/python3.9/site-packages/sklearn/base.py:439: UserWarning: X does not have valid feature names, but RandomForestClassifier was fitted with feature names\n",
      "  warnings.warn(\n"
     ]
    }
   ],
   "source": [
    "my_data =[\n",
    "            [\n",
    "            50,  # Age\n",
    "            1,   # Sex (0 = Female, 1 = Male)\n",
    "            2,   # ChestPainType (numerical encoding)\n",
    "            120, # RestingBP\n",
    "            240, # Cholesterol\n",
    "            0,   # FastingBS\n",
    "            1,   # RestingECG (numerical encoding)\n",
    "            150, # MaxHR\n",
    "            1,   # ExerciseAngina (0 = No, 1 = Yes)\n",
    "            1.5, # Oldpeak\n",
    "            2    # ST_Slope (numerical encoding)\n",
    "    ]\n",
    "]\n",
    "\n",
    "print(forest.predict(my_data))\n",
    "\n",
    "my_data =[\n",
    "            [\n",
    "            60,  # Age\n",
    "            0,   # Sex (0 = Female, 1 = Male)\n",
    "            1,   # ChestPainType (numerical encoding)\n",
    "            140, # RestingBP\n",
    "            200, # Cholesterol\n",
    "            1,   # FastingBS\n",
    "            0,   # RestingECG (numerical encoding)\n",
    "            130, # MaxHR\n",
    "            0,   # ExerciseAngina (0 = No, 1 = Yes)\n",
    "            0.5, # Oldpeak\n",
    "            1    # ST_Slope (numerical encoding)\n",
    "    ]\n",
    "]\n",
    "\n",
    "print(forest.predict(my_data))"
   ]
  },
  {
   "cell_type": "markdown",
   "id": "53d1e31a",
   "metadata": {},
   "source": [
    "Teraz jesteśmy gotowi do wyeksportowania naszego modelu do .pkl"
   ]
  },
  {
   "cell_type": "code",
   "execution_count": 3,
   "id": "8f6efed7",
   "metadata": {},
   "outputs": [
    {
     "ename": "NameError",
     "evalue": "name 'forest' is not defined",
     "output_type": "error",
     "traceback": [
      "\u001b[0;31m---------------------------------------------------------------------------\u001b[0m",
      "\u001b[0;31mNameError\u001b[0m                                 Traceback (most recent call last)",
      "Cell \u001b[0;32mIn[3], line 2\u001b[0m\n\u001b[1;32m      1\u001b[0m filename \u001b[38;5;241m=\u001b[39m \u001b[38;5;124m\"\u001b[39m\u001b[38;5;124mmodel.sv\u001b[39m\u001b[38;5;124m\"\u001b[39m\n\u001b[0;32m----> 2\u001b[0m pickle\u001b[38;5;241m.\u001b[39mdump(\u001b[43mforest\u001b[49m, \u001b[38;5;28mopen\u001b[39m(filename,\u001b[38;5;124m'\u001b[39m\u001b[38;5;124mwb\u001b[39m\u001b[38;5;124m'\u001b[39m))\n",
      "\u001b[0;31mNameError\u001b[0m: name 'forest' is not defined"
     ]
    }
   ],
   "source": [
    "filename = \"model.sv\"\n",
    "pickle.dump(forest, open(filename,'wb'))"
   ]
  },
  {
   "cell_type": "markdown",
   "id": "9047beea",
   "metadata": {},
   "source": [
    "Dalszą część pracy wykonujemy już poza Jupyter Notebook. Przenosimy się do pliku app.py."
   ]
  }
 ],
 "metadata": {
  "kernelspec": {
   "display_name": "Python 3 (ipykernel)",
   "language": "python",
   "name": "python3"
  },
  "language_info": {
   "codemirror_mode": {
    "name": "ipython",
    "version": 3
   },
   "file_extension": ".py",
   "mimetype": "text/x-python",
   "name": "python",
   "nbconvert_exporter": "python",
   "pygments_lexer": "ipython3",
   "version": "3.9.20"
  }
 },
 "nbformat": 4,
 "nbformat_minor": 5
}
